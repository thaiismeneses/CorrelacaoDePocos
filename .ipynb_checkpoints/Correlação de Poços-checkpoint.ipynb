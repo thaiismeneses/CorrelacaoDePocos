{
 "cells": [
  {
   "cell_type": "markdown",
   "id": "65cbbc39",
   "metadata": {},
   "source": [
    "### Análise de Dados - Correlação de Poços (MySQL)"
   ]
  },
  {
   "cell_type": "markdown",
   "id": "55e61c1a",
   "metadata": {},
   "source": [
    "### Instalação dos pacotes necessários\n"
   ]
  },
  {
   "cell_type": "code",
   "execution_count": 1,
   "id": "a4526f21",
   "metadata": {},
   "outputs": [
    {
     "name": "stdout",
     "output_type": "stream",
     "text": [
      "Requirement already satisfied: pandas in c:\\users\\ha_fr\\anaconda3\\lib\\site-packages (2.0.3)\n",
      "Requirement already satisfied: pymysql in c:\\users\\ha_fr\\anaconda3\\lib\\site-packages (1.1.0)\n",
      "Requirement already satisfied: scikit-learn in c:\\users\\ha_fr\\anaconda3\\lib\\site-packages (1.3.0)\n",
      "Requirement already satisfied: mysql-connector-python in c:\\users\\ha_fr\\anaconda3\\lib\\site-packages (8.0.33)\n",
      "Requirement already satisfied: python-dateutil>=2.8.2 in c:\\users\\ha_fr\\anaconda3\\lib\\site-packages (from pandas) (2.8.2)\n",
      "Requirement already satisfied: pytz>=2020.1 in c:\\users\\ha_fr\\anaconda3\\lib\\site-packages (from pandas) (2023.3.post1)\n",
      "Requirement already satisfied: tzdata>=2022.1 in c:\\users\\ha_fr\\anaconda3\\lib\\site-packages (from pandas) (2023.3)\n",
      "Requirement already satisfied: numpy>=1.21.0 in c:\\users\\ha_fr\\anaconda3\\lib\\site-packages (from pandas) (1.24.3)\n",
      "Requirement already satisfied: scipy>=1.5.0 in c:\\users\\ha_fr\\anaconda3\\lib\\site-packages (from scikit-learn) (1.11.1)\n",
      "Requirement already satisfied: joblib>=1.1.1 in c:\\users\\ha_fr\\anaconda3\\lib\\site-packages (from scikit-learn) (1.2.0)\n",
      "Requirement already satisfied: threadpoolctl>=2.0.0 in c:\\users\\ha_fr\\anaconda3\\lib\\site-packages (from scikit-learn) (2.2.0)\n",
      "Requirement already satisfied: protobuf<=3.20.3,>=3.11.0 in c:\\users\\ha_fr\\anaconda3\\lib\\site-packages (from mysql-connector-python) (3.20.3)\n",
      "Requirement already satisfied: six>=1.5 in c:\\users\\ha_fr\\anaconda3\\lib\\site-packages (from python-dateutil>=2.8.2->pandas) (1.16.0)\n",
      "Note: you may need to restart the kernel to use updated packages.\n"
     ]
    }
   ],
   "source": [
    "\n",
    "pip install pandas pymysql scikit-learn mysql-connector-python"
   ]
  },
  {
   "cell_type": "markdown",
   "id": "45dda0a1",
   "metadata": {},
   "source": [
    "### Criando a tabela no MySQL"
   ]
  },
  {
   "cell_type": "code",
   "execution_count": 2,
   "id": "2973128c",
   "metadata": {},
   "outputs": [],
   "source": [
    "import mysql.connector\n",
    "\n",
    "# Configuração da Conexão com MySQL\n",
    "conexao = mysql.connector.connect(\n",
    "    host = \"localhost\",\n",
    "    user = \"root\",\n",
    "    password = \"Th@is1909\",\n",
    "    database = \"dados_pocos\"\n",
    ")\n",
    "\n",
    "# Criando cursor para a conexão\n",
    "cursor = conexao.cursor()\n",
    "\n",
    "# Criando tabela \n",
    "cursor.execute('''\n",
    "                CREATE TABLE IF NOT EXISTS dados_pocos (\n",
    "                Nome VARCHAR(255),\n",
    "                Fase INT,\n",
    "                Tipo_Poco VARCHAR(255),\n",
    "                LDA FLOAT,\n",
    "                Diametro_Fase FLOAT,\n",
    "                Metragem FLOAT,\n",
    "                NFases INT\n",
    "                )\n",
    "                ''')\n",
    "\n",
    "# Fechar conexão\n",
    "cursor.close()\n",
    "conexao.close()\n"
   ]
  },
  {
   "cell_type": "markdown",
   "id": "b79ebd82",
   "metadata": {},
   "source": [
    "### Importando os Dados para MySQL"
   ]
  },
  {
   "cell_type": "code",
   "execution_count": 3,
   "id": "07404671",
   "metadata": {
    "scrolled": false
   },
   "outputs": [
    {
     "data": {
      "text/html": [
       "<div>\n",
       "<style scoped>\n",
       "    .dataframe tbody tr th:only-of-type {\n",
       "        vertical-align: middle;\n",
       "    }\n",
       "\n",
       "    .dataframe tbody tr th {\n",
       "        vertical-align: top;\n",
       "    }\n",
       "\n",
       "    .dataframe thead th {\n",
       "        text-align: right;\n",
       "    }\n",
       "</style>\n",
       "<table border=\"1\" class=\"dataframe\">\n",
       "  <thead>\n",
       "    <tr style=\"text-align: right;\">\n",
       "      <th></th>\n",
       "      <th>Unnamed: 0</th>\n",
       "      <th>Nome do Poço</th>\n",
       "      <th>Fase</th>\n",
       "      <th>Tipo Poço</th>\n",
       "      <th>LDA (Lâmina D'Água)</th>\n",
       "      <th>Diâmetro Fase</th>\n",
       "      <th>Metragem</th>\n",
       "      <th>NFases</th>\n",
       "    </tr>\n",
       "  </thead>\n",
       "  <tbody>\n",
       "    <tr>\n",
       "      <th>0</th>\n",
       "      <td>0</td>\n",
       "      <td>6C5G4M</td>\n",
       "      <td>1</td>\n",
       "      <td>VERTICAL</td>\n",
       "      <td>598.0</td>\n",
       "      <td>26</td>\n",
       "      <td>607.0</td>\n",
       "      <td>4</td>\n",
       "    </tr>\n",
       "    <tr>\n",
       "      <th>1</th>\n",
       "      <td>1</td>\n",
       "      <td>6C5G4M</td>\n",
       "      <td>2</td>\n",
       "      <td>VERTICAL</td>\n",
       "      <td>598.0</td>\n",
       "      <td>17 1/2</td>\n",
       "      <td>1306.0</td>\n",
       "      <td>4</td>\n",
       "    </tr>\n",
       "    <tr>\n",
       "      <th>2</th>\n",
       "      <td>2</td>\n",
       "      <td>6C5G4M</td>\n",
       "      <td>3</td>\n",
       "      <td>VERTICAL</td>\n",
       "      <td>598.0</td>\n",
       "      <td>12 1/4</td>\n",
       "      <td>1201.0</td>\n",
       "      <td>4</td>\n",
       "    </tr>\n",
       "    <tr>\n",
       "      <th>3</th>\n",
       "      <td>3</td>\n",
       "      <td>6C5G4M</td>\n",
       "      <td>4</td>\n",
       "      <td>VERTICAL</td>\n",
       "      <td>598.0</td>\n",
       "      <td>8 1/2</td>\n",
       "      <td>1445.0</td>\n",
       "      <td>4</td>\n",
       "    </tr>\n",
       "    <tr>\n",
       "      <th>4</th>\n",
       "      <td>4</td>\n",
       "      <td>8030JC</td>\n",
       "      <td>1</td>\n",
       "      <td>VERTICAL</td>\n",
       "      <td>0.0</td>\n",
       "      <td>17 1/2</td>\n",
       "      <td>410.0</td>\n",
       "      <td>3</td>\n",
       "    </tr>\n",
       "  </tbody>\n",
       "</table>\n",
       "</div>"
      ],
      "text/plain": [
       "   Unnamed: 0 Nome do Poço  Fase Tipo Poço  LDA (Lâmina D'Água) Diâmetro Fase  \\\n",
       "0           0       6C5G4M     1  VERTICAL                598.0      26         \n",
       "1           1       6C5G4M     2  VERTICAL                598.0      17 1/2     \n",
       "2           2       6C5G4M     3  VERTICAL                598.0      12 1/4     \n",
       "3           3       6C5G4M     4  VERTICAL                598.0      8 1/2      \n",
       "4           4       8030JC     1  VERTICAL                  0.0      17 1/2     \n",
       "\n",
       "   Metragem  NFases  \n",
       "0     607.0       4  \n",
       "1    1306.0       4  \n",
       "2    1201.0       4  \n",
       "3    1445.0       4  \n",
       "4     410.0       3  "
      ]
     },
     "execution_count": 3,
     "metadata": {},
     "output_type": "execute_result"
    }
   ],
   "source": [
    "import pandas as pd\n",
    "\n",
    "# Carregando os dados do arquivo \"dados_pocos.csv\"\n",
    "dados_pocos = pd.read_csv('dados_pocos.csv')\n",
    "\n",
    "\n",
    "# Visualizando estrutura \n",
    "dados_pocos.head()\n"
   ]
  },
  {
   "cell_type": "markdown",
   "id": "175d1978",
   "metadata": {},
   "source": [
    "### Tratamentos dos dados "
   ]
  },
  {
   "cell_type": "code",
   "execution_count": 4,
   "id": "426a4489",
   "metadata": {
    "scrolled": true
   },
   "outputs": [
    {
     "data": {
      "text/plain": [
       "Unnamed: 0             0\n",
       "Nome do Poço           0\n",
       "Fase                   0\n",
       "Tipo Poço              0\n",
       "LDA (Lâmina D'Água)    0\n",
       "Diâmetro Fase          0\n",
       "Metragem               0\n",
       "NFases                 0\n",
       "dtype: int64"
      ]
     },
     "execution_count": 4,
     "metadata": {},
     "output_type": "execute_result"
    }
   ],
   "source": [
    "# Verificando a existência de valores nulos\n",
    "\n",
    "dados_pocos.isnull().sum()"
   ]
  },
  {
   "cell_type": "code",
   "execution_count": 5,
   "id": "0883da5f",
   "metadata": {
    "scrolled": true
   },
   "outputs": [
    {
     "data": {
      "text/html": [
       "<div>\n",
       "<style scoped>\n",
       "    .dataframe tbody tr th:only-of-type {\n",
       "        vertical-align: middle;\n",
       "    }\n",
       "\n",
       "    .dataframe tbody tr th {\n",
       "        vertical-align: top;\n",
       "    }\n",
       "\n",
       "    .dataframe thead th {\n",
       "        text-align: right;\n",
       "    }\n",
       "</style>\n",
       "<table border=\"1\" class=\"dataframe\">\n",
       "  <thead>\n",
       "    <tr style=\"text-align: right;\">\n",
       "      <th></th>\n",
       "      <th>Unnamed: 0</th>\n",
       "      <th>Nome do Poço</th>\n",
       "      <th>Fase</th>\n",
       "      <th>Tipo Poço</th>\n",
       "      <th>LDA (Lâmina D'Água)</th>\n",
       "      <th>Diâmetro Fase</th>\n",
       "      <th>Metragem</th>\n",
       "      <th>NFases</th>\n",
       "      <th>Diâmetro Fase (m)</th>\n",
       "    </tr>\n",
       "  </thead>\n",
       "  <tbody>\n",
       "    <tr>\n",
       "      <th>0</th>\n",
       "      <td>0</td>\n",
       "      <td>6C5G4M</td>\n",
       "      <td>1</td>\n",
       "      <td>VERTICAL</td>\n",
       "      <td>598.0</td>\n",
       "      <td>26</td>\n",
       "      <td>607.0</td>\n",
       "      <td>4</td>\n",
       "      <td>0.6604</td>\n",
       "    </tr>\n",
       "    <tr>\n",
       "      <th>1</th>\n",
       "      <td>1</td>\n",
       "      <td>6C5G4M</td>\n",
       "      <td>2</td>\n",
       "      <td>VERTICAL</td>\n",
       "      <td>598.0</td>\n",
       "      <td>17 1/2</td>\n",
       "      <td>1306.0</td>\n",
       "      <td>4</td>\n",
       "      <td>0.4318</td>\n",
       "    </tr>\n",
       "    <tr>\n",
       "      <th>2</th>\n",
       "      <td>2</td>\n",
       "      <td>6C5G4M</td>\n",
       "      <td>3</td>\n",
       "      <td>VERTICAL</td>\n",
       "      <td>598.0</td>\n",
       "      <td>12 1/4</td>\n",
       "      <td>1201.0</td>\n",
       "      <td>4</td>\n",
       "      <td>0.3048</td>\n",
       "    </tr>\n",
       "    <tr>\n",
       "      <th>3</th>\n",
       "      <td>3</td>\n",
       "      <td>6C5G4M</td>\n",
       "      <td>4</td>\n",
       "      <td>VERTICAL</td>\n",
       "      <td>598.0</td>\n",
       "      <td>8 1/2</td>\n",
       "      <td>1445.0</td>\n",
       "      <td>4</td>\n",
       "      <td>0.2032</td>\n",
       "    </tr>\n",
       "    <tr>\n",
       "      <th>4</th>\n",
       "      <td>4</td>\n",
       "      <td>8030JC</td>\n",
       "      <td>1</td>\n",
       "      <td>VERTICAL</td>\n",
       "      <td>0.0</td>\n",
       "      <td>17 1/2</td>\n",
       "      <td>410.0</td>\n",
       "      <td>3</td>\n",
       "      <td>0.4318</td>\n",
       "    </tr>\n",
       "  </tbody>\n",
       "</table>\n",
       "</div>"
      ],
      "text/plain": [
       "   Unnamed: 0 Nome do Poço  Fase Tipo Poço  LDA (Lâmina D'Água) Diâmetro Fase  \\\n",
       "0           0       6C5G4M     1  VERTICAL                598.0      26         \n",
       "1           1       6C5G4M     2  VERTICAL                598.0      17 1/2     \n",
       "2           2       6C5G4M     3  VERTICAL                598.0      12 1/4     \n",
       "3           3       6C5G4M     4  VERTICAL                598.0      8 1/2      \n",
       "4           4       8030JC     1  VERTICAL                  0.0      17 1/2     \n",
       "\n",
       "   Metragem  NFases  Diâmetro Fase (m)  \n",
       "0     607.0       4             0.6604  \n",
       "1    1306.0       4             0.4318  \n",
       "2    1201.0       4             0.3048  \n",
       "3    1445.0       4             0.2032  \n",
       "4     410.0       3             0.4318  "
      ]
     },
     "execution_count": 5,
     "metadata": {},
     "output_type": "execute_result"
    }
   ],
   "source": [
    "# Função para conversão do diâmetro fase de polegadas para metros\n",
    "from fractions import Fraction\n",
    "\n",
    "def converter_para_metros(diametro):\n",
    "    fator_conversao = 0.0254\n",
    "    if isinstance(diametro, str):\n",
    "        partes = diametro.split(' ')\n",
    "\n",
    "    if len(partes) == 2:\n",
    "        inteiro = int(partes[0])\n",
    "        fracao_str = partes[1]\n",
    "        fracao = float(Fraction(fracao_str))\n",
    "        valor_total_polegadas = inteiro + fracao\n",
    "    else:\n",
    "        inteiro = 0\n",
    "        fracao_str = partes[0]\n",
    "        fracao = float(Fraction(fracao_str))\n",
    "        valor_total_polegadas = inteiro + fracao\n",
    "\n",
    "    metros = valor_total_polegadas * fator_conversao\n",
    "    return metros\n",
    "\n",
    "#Convertendo os valores\n",
    "dados_pocos['Diâmetro Fase (m)'] = dados_pocos['Diâmetro Fase'].apply(converter_para_metros)\n",
    "\n",
    "# Conferindo os dados convertidos\n",
    "dados_pocos.head()"
   ]
  },
  {
   "cell_type": "code",
   "execution_count": 6,
   "id": "ea818a80",
   "metadata": {},
   "outputs": [],
   "source": [
    "# Restabelecendo a conexão com o banco de dados MySQL\n",
    "conexao = mysql.connector.connect(\n",
    "    host = \"localhost\",\n",
    "    user = \"root\",\n",
    "    password = \"Th@is1909\",\n",
    "    database = \"dados_pocos\"\n",
    ")\n",
    "\n",
    "# Criando o cursor após a reconexão\n",
    "cursor = conexao.cursor()\n",
    "\n",
    "# Inserindo os dados na banco de dados criado no MySQL\n",
    "for _, row in dados_pocos.iterrows():\n",
    "   cursor.execute('''\n",
    "                   INSERT INTO dados_pocos\n",
    "                   (Nome, Fase, Tipo_Poco, LDA, Diametro_Fase, Metragem, NFases)\n",
    "                   VALUES (%s, %s, %s, %s, %s, %s, %s)\n",
    "                   ''', (row['Nome do Poço'], row['Fase'], row['Tipo Poço'], row[\"LDA (Lâmina D'Água)\"], row['Diâmetro Fase (m)'], row['Metragem'], row['NFases']))\n",
    "\n",
    "# Commit e fechar conexão    \n",
    "conexao.commit()\n",
    "cursor.close()\n",
    "conexao.close()"
   ]
  },
  {
   "cell_type": "markdown",
   "id": "49d4cd32",
   "metadata": {},
   "source": [
    " ### Desenvolvendo os modelos de correlação e Treinamento"
   ]
  },
  {
   "cell_type": "code",
   "execution_count": 7,
   "id": "e601eda0",
   "metadata": {},
   "outputs": [
    {
     "data": {
      "text/html": [
       "<style>#sk-container-id-1 {color: black;}#sk-container-id-1 pre{padding: 0;}#sk-container-id-1 div.sk-toggleable {background-color: white;}#sk-container-id-1 label.sk-toggleable__label {cursor: pointer;display: block;width: 100%;margin-bottom: 0;padding: 0.3em;box-sizing: border-box;text-align: center;}#sk-container-id-1 label.sk-toggleable__label-arrow:before {content: \"▸\";float: left;margin-right: 0.25em;color: #696969;}#sk-container-id-1 label.sk-toggleable__label-arrow:hover:before {color: black;}#sk-container-id-1 div.sk-estimator:hover label.sk-toggleable__label-arrow:before {color: black;}#sk-container-id-1 div.sk-toggleable__content {max-height: 0;max-width: 0;overflow: hidden;text-align: left;background-color: #f0f8ff;}#sk-container-id-1 div.sk-toggleable__content pre {margin: 0.2em;color: black;border-radius: 0.25em;background-color: #f0f8ff;}#sk-container-id-1 input.sk-toggleable__control:checked~div.sk-toggleable__content {max-height: 200px;max-width: 100%;overflow: auto;}#sk-container-id-1 input.sk-toggleable__control:checked~label.sk-toggleable__label-arrow:before {content: \"▾\";}#sk-container-id-1 div.sk-estimator input.sk-toggleable__control:checked~label.sk-toggleable__label {background-color: #d4ebff;}#sk-container-id-1 div.sk-label input.sk-toggleable__control:checked~label.sk-toggleable__label {background-color: #d4ebff;}#sk-container-id-1 input.sk-hidden--visually {border: 0;clip: rect(1px 1px 1px 1px);clip: rect(1px, 1px, 1px, 1px);height: 1px;margin: -1px;overflow: hidden;padding: 0;position: absolute;width: 1px;}#sk-container-id-1 div.sk-estimator {font-family: monospace;background-color: #f0f8ff;border: 1px dotted black;border-radius: 0.25em;box-sizing: border-box;margin-bottom: 0.5em;}#sk-container-id-1 div.sk-estimator:hover {background-color: #d4ebff;}#sk-container-id-1 div.sk-parallel-item::after {content: \"\";width: 100%;border-bottom: 1px solid gray;flex-grow: 1;}#sk-container-id-1 div.sk-label:hover label.sk-toggleable__label {background-color: #d4ebff;}#sk-container-id-1 div.sk-serial::before {content: \"\";position: absolute;border-left: 1px solid gray;box-sizing: border-box;top: 0;bottom: 0;left: 50%;z-index: 0;}#sk-container-id-1 div.sk-serial {display: flex;flex-direction: column;align-items: center;background-color: white;padding-right: 0.2em;padding-left: 0.2em;position: relative;}#sk-container-id-1 div.sk-item {position: relative;z-index: 1;}#sk-container-id-1 div.sk-parallel {display: flex;align-items: stretch;justify-content: center;background-color: white;position: relative;}#sk-container-id-1 div.sk-item::before, #sk-container-id-1 div.sk-parallel-item::before {content: \"\";position: absolute;border-left: 1px solid gray;box-sizing: border-box;top: 0;bottom: 0;left: 50%;z-index: -1;}#sk-container-id-1 div.sk-parallel-item {display: flex;flex-direction: column;z-index: 1;position: relative;background-color: white;}#sk-container-id-1 div.sk-parallel-item:first-child::after {align-self: flex-end;width: 50%;}#sk-container-id-1 div.sk-parallel-item:last-child::after {align-self: flex-start;width: 50%;}#sk-container-id-1 div.sk-parallel-item:only-child::after {width: 0;}#sk-container-id-1 div.sk-dashed-wrapped {border: 1px dashed gray;margin: 0 0.4em 0.5em 0.4em;box-sizing: border-box;padding-bottom: 0.4em;background-color: white;}#sk-container-id-1 div.sk-label label {font-family: monospace;font-weight: bold;display: inline-block;line-height: 1.2em;}#sk-container-id-1 div.sk-label-container {text-align: center;}#sk-container-id-1 div.sk-container {/* jupyter's `normalize.less` sets `[hidden] { display: none; }` but bootstrap.min.css set `[hidden] { display: none !important; }` so we also need the `!important` here to be able to override the default hidden behavior on the sphinx rendered scikit-learn.org. See: https://github.com/scikit-learn/scikit-learn/issues/21755 */display: inline-block !important;position: relative;}#sk-container-id-1 div.sk-text-repr-fallback {display: none;}</style><div id=\"sk-container-id-1\" class=\"sk-top-container\"><div class=\"sk-text-repr-fallback\"><pre>KNeighborsClassifier(n_neighbors=4)</pre><b>In a Jupyter environment, please rerun this cell to show the HTML representation or trust the notebook. <br />On GitHub, the HTML representation is unable to render, please try loading this page with nbviewer.org.</b></div><div class=\"sk-container\" hidden><div class=\"sk-item\"><div class=\"sk-estimator sk-toggleable\"><input class=\"sk-toggleable__control sk-hidden--visually\" id=\"sk-estimator-id-1\" type=\"checkbox\" checked><label for=\"sk-estimator-id-1\" class=\"sk-toggleable__label sk-toggleable__label-arrow\">KNeighborsClassifier</label><div class=\"sk-toggleable__content\"><pre>KNeighborsClassifier(n_neighbors=4)</pre></div></div></div></div></div>"
      ],
      "text/plain": [
       "KNeighborsClassifier(n_neighbors=4)"
      ]
     },
     "execution_count": 7,
     "metadata": {},
     "output_type": "execute_result"
    }
   ],
   "source": [
    "from sklearn.model_selection import train_test_split\n",
    "from sklearn.neighbors import KNeighborsClassifier\n",
    "from sklearn.preprocessing import StandardScaler\n",
    "\n",
    "# Restabelecendo a conexão com o banco de dados MySQL\n",
    "conexao = mysql.connector.connect(\n",
    "    host = \"localhost\",\n",
    "    user = \"root\",\n",
    "    password = \"Th@is1909\",\n",
    "    database = \"dados_pocos\"\n",
    ")\n",
    "\n",
    "# Criando o cursor após a reconexão\n",
    "cursor = conexao.cursor()\n",
    "\n",
    "# Carregando dados do banco de dados \n",
    "query = 'SELECT * FROM  dados_pocos'\n",
    "cursor.execute(query)\n",
    "dados = cursor.fetchall()\n",
    "\n",
    "# Fechar conexão\n",
    "cursor.close()\n",
    "conexao.close()\n",
    "\n",
    "# Preparando os dados para modelo de Machine Learning\n",
    "dados_pocos = pd.DataFrame(dados, columns=['Nome', 'Fase', 'Tipo_Poco', 'LDA', 'Diametro_Fase (m)', 'Metragem', 'NFases'])\n",
    "X = dados_pocos[['Fase', 'LDA', 'Metragem', 'NFases']].values\n",
    "y = dados_pocos['Nome'].values\n",
    "\n",
    "# Normalizando os dados\n",
    "scaler = StandardScaler()\n",
    "X_normalized = scaler.fit_transform(X)\n",
    "\n",
    "# Separando os dados em conjuntos de treinamento e teste\n",
    "X_train, X_test, y_train, y_test = train_test_split(X_normalized, y, test_size=0.33, random_state=42)\n",
    "\n",
    "\n",
    "# Inicializando o Modelo KNN \n",
    "knn = KNeighborsClassifier(n_neighbors=4)\n",
    "\n",
    "# Treinando o modelo\n",
    "knn.fit(X_train, y_train)\n",
    "\n"
   ]
  },
  {
   "cell_type": "markdown",
   "id": "11657706",
   "metadata": {},
   "source": [
    "### Avaliando o desempenho do modelo"
   ]
  },
  {
   "cell_type": "code",
   "execution_count": 8,
   "id": "f5ea525b",
   "metadata": {
    "scrolled": true
   },
   "outputs": [
    {
     "name": "stdout",
     "output_type": "stream",
     "text": [
      "Acurácia: 0.30\n",
      "Precisão: 0.30\n",
      "Recall: 0.30\n"
     ]
    }
   ],
   "source": [
    "from sklearn.metrics import accuracy_score, precision_score, recall_score\n",
    "\n",
    "#Previsões do Modelo KNN\n",
    "y_pred = knn.predict(X_test)\n",
    "\n",
    "#Cálculo das métricas\n",
    "accuracy = accuracy_score(y_test, y_pred)\n",
    "precision = precision_score(y_test, y_pred, average='micro')\n",
    "recall = recall_score(y_test, y_pred, average='micro')\n",
    "\n",
    "#Visualizando os resultados da avalição\n",
    "print(f\"Acurácia: {accuracy:.2f}\")\n",
    "print(f\"Precisão: {precision:.2f}\")\n",
    "print(f\"Recall: {recall:.2f}\")"
   ]
  },
  {
   "cell_type": "markdown",
   "id": "67625b73",
   "metadata": {},
   "source": [
    "### Criando um DataFrame para o poço de entrada teste"
   ]
  },
  {
   "cell_type": "code",
   "execution_count": 9,
   "id": "d362bb08",
   "metadata": {},
   "outputs": [
    {
     "data": {
      "text/html": [
       "<div>\n",
       "<style scoped>\n",
       "    .dataframe tbody tr th:only-of-type {\n",
       "        vertical-align: middle;\n",
       "    }\n",
       "\n",
       "    .dataframe tbody tr th {\n",
       "        vertical-align: top;\n",
       "    }\n",
       "\n",
       "    .dataframe thead th {\n",
       "        text-align: right;\n",
       "    }\n",
       "</style>\n",
       "<table border=\"1\" class=\"dataframe\">\n",
       "  <thead>\n",
       "    <tr style=\"text-align: right;\">\n",
       "      <th></th>\n",
       "      <th>Nome</th>\n",
       "      <th>Fase</th>\n",
       "      <th>Tipo Poco</th>\n",
       "      <th>LDA</th>\n",
       "      <th>Diâmetro Fase</th>\n",
       "      <th>Metragem</th>\n",
       "      <th>NFases</th>\n",
       "    </tr>\n",
       "  </thead>\n",
       "  <tbody>\n",
       "    <tr>\n",
       "      <th>0</th>\n",
       "      <td>2JAUCG</td>\n",
       "      <td>1</td>\n",
       "      <td>VERTICAL</td>\n",
       "      <td>598.0</td>\n",
       "      <td>26</td>\n",
       "      <td>607.0</td>\n",
       "      <td>4</td>\n",
       "    </tr>\n",
       "    <tr>\n",
       "      <th>1</th>\n",
       "      <td>2JAUCG</td>\n",
       "      <td>2</td>\n",
       "      <td>VERTICAL</td>\n",
       "      <td>598.0</td>\n",
       "      <td>17 1/2</td>\n",
       "      <td>1306.0</td>\n",
       "      <td>4</td>\n",
       "    </tr>\n",
       "    <tr>\n",
       "      <th>2</th>\n",
       "      <td>2JAUCG</td>\n",
       "      <td>3</td>\n",
       "      <td>VERTICAL</td>\n",
       "      <td>598.0</td>\n",
       "      <td>12 1/4</td>\n",
       "      <td>1201.0</td>\n",
       "      <td>4</td>\n",
       "    </tr>\n",
       "    <tr>\n",
       "      <th>3</th>\n",
       "      <td>2JAUCG</td>\n",
       "      <td>4</td>\n",
       "      <td>VERTICAL</td>\n",
       "      <td>598.0</td>\n",
       "      <td>8 1/2</td>\n",
       "      <td>1445.0</td>\n",
       "      <td>4</td>\n",
       "    </tr>\n",
       "  </tbody>\n",
       "</table>\n",
       "</div>"
      ],
      "text/plain": [
       "     Nome  Fase Tipo Poco    LDA Diâmetro Fase  Metragem  NFases\n",
       "0  2JAUCG     1  VERTICAL  598.0            26     607.0       4\n",
       "1  2JAUCG     2  VERTICAL  598.0        17 1/2    1306.0       4\n",
       "2  2JAUCG     3  VERTICAL  598.0        12 1/4    1201.0       4\n",
       "3  2JAUCG     4  VERTICAL  598.0         8 1/2    1445.0       4"
      ]
     },
     "execution_count": 9,
     "metadata": {},
     "output_type": "execute_result"
    }
   ],
   "source": [
    "\n",
    "# Dados do novo poço\n",
    "novo_poco = pd.DataFrame({\n",
    "    'Nome':['2JAUCG', '2JAUCG', '2JAUCG', '2JAUCG'],\n",
    "    'Fase': [1, 2, 3, 4],\n",
    "    'Tipo Poco': [\"VERTICAL\", \"VERTICAL\", \"VERTICAL\", \"VERTICAL\"],\n",
    "    'LDA': [598.0, 598.0, 598.0, 598.0],\n",
    "    'Diâmetro Fase': ['26', '17 1/2', '12 1/4', '8 1/2'],\n",
    "    'Metragem': [607.0, 1306.0, 1201.0, 1445.0],\n",
    "    'NFases': [4, 4, 4, 4]\n",
    "})\n",
    "\n",
    "# Visualizando o dados do novo poço\n",
    "novo_poco"
   ]
  },
  {
   "cell_type": "code",
   "execution_count": 10,
   "id": "98775136",
   "metadata": {},
   "outputs": [
    {
     "data": {
      "text/html": [
       "<div>\n",
       "<style scoped>\n",
       "    .dataframe tbody tr th:only-of-type {\n",
       "        vertical-align: middle;\n",
       "    }\n",
       "\n",
       "    .dataframe tbody tr th {\n",
       "        vertical-align: top;\n",
       "    }\n",
       "\n",
       "    .dataframe thead th {\n",
       "        text-align: right;\n",
       "    }\n",
       "</style>\n",
       "<table border=\"1\" class=\"dataframe\">\n",
       "  <thead>\n",
       "    <tr style=\"text-align: right;\">\n",
       "      <th></th>\n",
       "      <th>Nome</th>\n",
       "      <th>Fase</th>\n",
       "      <th>Tipo Poco</th>\n",
       "      <th>LDA</th>\n",
       "      <th>Diâmetro Fase (m)</th>\n",
       "      <th>Metragem</th>\n",
       "      <th>NFases</th>\n",
       "    </tr>\n",
       "  </thead>\n",
       "  <tbody>\n",
       "    <tr>\n",
       "      <th>0</th>\n",
       "      <td>2JAUCG</td>\n",
       "      <td>1</td>\n",
       "      <td>VERTICAL</td>\n",
       "      <td>598.0</td>\n",
       "      <td>0.66040</td>\n",
       "      <td>607.0</td>\n",
       "      <td>4</td>\n",
       "    </tr>\n",
       "    <tr>\n",
       "      <th>1</th>\n",
       "      <td>2JAUCG</td>\n",
       "      <td>2</td>\n",
       "      <td>VERTICAL</td>\n",
       "      <td>598.0</td>\n",
       "      <td>0.44450</td>\n",
       "      <td>1306.0</td>\n",
       "      <td>4</td>\n",
       "    </tr>\n",
       "    <tr>\n",
       "      <th>2</th>\n",
       "      <td>2JAUCG</td>\n",
       "      <td>3</td>\n",
       "      <td>VERTICAL</td>\n",
       "      <td>598.0</td>\n",
       "      <td>0.31115</td>\n",
       "      <td>1201.0</td>\n",
       "      <td>4</td>\n",
       "    </tr>\n",
       "    <tr>\n",
       "      <th>3</th>\n",
       "      <td>2JAUCG</td>\n",
       "      <td>4</td>\n",
       "      <td>VERTICAL</td>\n",
       "      <td>598.0</td>\n",
       "      <td>0.21590</td>\n",
       "      <td>1445.0</td>\n",
       "      <td>4</td>\n",
       "    </tr>\n",
       "  </tbody>\n",
       "</table>\n",
       "</div>"
      ],
      "text/plain": [
       "     Nome  Fase Tipo Poco    LDA  Diâmetro Fase (m)  Metragem  NFases\n",
       "0  2JAUCG     1  VERTICAL  598.0            0.66040     607.0       4\n",
       "1  2JAUCG     2  VERTICAL  598.0            0.44450    1306.0       4\n",
       "2  2JAUCG     3  VERTICAL  598.0            0.31115    1201.0       4\n",
       "3  2JAUCG     4  VERTICAL  598.0            0.21590    1445.0       4"
      ]
     },
     "execution_count": 10,
     "metadata": {},
     "output_type": "execute_result"
    }
   ],
   "source": [
    "# Convertendo os valores\n",
    "novo_poco['Diâmetro Fase'] = novo_poco['Diâmetro Fase'].apply(converter_para_metros)\n",
    "\n",
    "novo_poco.rename(columns={'Diâmetro Fase':'Diâmetro Fase (m)'}, inplace = True)\n",
    "\n",
    "novo_poco\n"
   ]
  },
  {
   "cell_type": "markdown",
   "id": "cb52224d",
   "metadata": {},
   "source": [
    "### Padronizando os dados de entrada para passa-los pelo modelo KNN para encontrar os pocos mais correlatos"
   ]
  },
  {
   "cell_type": "code",
   "execution_count": 11,
   "id": "6bd56c9c",
   "metadata": {},
   "outputs": [
    {
     "name": "stdout",
     "output_type": "stream",
     "text": [
      "Fase 1 - Poços correlatos: ['66LE70', '52P841', '371503', 'OKBG61']\n",
      "Fase 2 - Poços correlatos: ['G23620', '671X16', 'S6C6TB', '075UXF']\n",
      "Fase 3 - Poços correlatos: ['G23620', '671X16', 'S6C6TB', '075UXF']\n",
      "Fase 4 - Poços correlatos: ['G23620', '671X16', 'S6C6TB', '075UXF']\n"
     ]
    }
   ],
   "source": [
    "# Extraindo e preparando os dados \n",
    "dados_novos = novo_poco[['LDA', 'Diâmetro Fase (m)', 'Metragem', 'NFases']].values\n",
    "\n",
    "# Normalizando os dados\n",
    "dados_novos_normalized = scaler.transform(dados_novos)\n",
    "\n",
    "# Usando o modelo treinado para encontrar os 4 poços mais correlatos\n",
    "#para cada fase do poço de entrada\n",
    "pocos_correlatos = {}\n",
    "\n",
    "for i, features in enumerate(dados_novos_normalized):\n",
    "    fase = novo_poco.iloc[i]['Fase']\n",
    "    knn_model = knn.kneighbors([features], n_neighbors=4, return_distance=False)\n",
    "    pocos_correlatos[fase] = knn_model[0].tolist()\n",
    "    \n",
    "# Buscando nomes dos poços\n",
    "nome_pocos_correlatos = {fase: [dados_pocos.iloc[idx]['Nome'] for idx in indices] for fase, indices in pocos_correlatos.items()}\n",
    "\n",
    "# Imprimindo os poços correlatos identificando por nomes\n",
    "for fase, nomes_correlatos in nome_pocos_correlatos.items():\n",
    "    print(f\"Fase {fase} - Poços correlatos: {nomes_correlatos}\")"
   ]
  },
  {
   "cell_type": "markdown",
   "id": "d6c7abb7",
   "metadata": {},
   "source": [
    "### Vizualizando os resultados "
   ]
  },
  {
   "cell_type": "code",
   "execution_count": 13,
   "id": "e9ed2d26",
   "metadata": {},
   "outputs": [
    {
     "ename": "KeyError",
     "evalue": "'Diâmetro Fase (m)'",
     "output_type": "error",
     "traceback": [
      "\u001b[1;31m---------------------------------------------------------------------------\u001b[0m",
      "\u001b[1;31mKeyError\u001b[0m                                  Traceback (most recent call last)",
      "File \u001b[1;32m~\\anaconda3\\Lib\\site-packages\\pandas\\core\\indexes\\base.py:3653\u001b[0m, in \u001b[0;36mIndex.get_loc\u001b[1;34m(self, key)\u001b[0m\n\u001b[0;32m   3652\u001b[0m \u001b[38;5;28;01mtry\u001b[39;00m:\n\u001b[1;32m-> 3653\u001b[0m     \u001b[38;5;28;01mreturn\u001b[39;00m \u001b[38;5;28mself\u001b[39m\u001b[38;5;241m.\u001b[39m_engine\u001b[38;5;241m.\u001b[39mget_loc(casted_key)\n\u001b[0;32m   3654\u001b[0m \u001b[38;5;28;01mexcept\u001b[39;00m \u001b[38;5;167;01mKeyError\u001b[39;00m \u001b[38;5;28;01mas\u001b[39;00m err:\n",
      "File \u001b[1;32m~\\anaconda3\\Lib\\site-packages\\pandas\\_libs\\index.pyx:147\u001b[0m, in \u001b[0;36mpandas._libs.index.IndexEngine.get_loc\u001b[1;34m()\u001b[0m\n",
      "File \u001b[1;32m~\\anaconda3\\Lib\\site-packages\\pandas\\_libs\\index.pyx:176\u001b[0m, in \u001b[0;36mpandas._libs.index.IndexEngine.get_loc\u001b[1;34m()\u001b[0m\n",
      "File \u001b[1;32mpandas\\_libs\\hashtable_class_helper.pxi:7080\u001b[0m, in \u001b[0;36mpandas._libs.hashtable.PyObjectHashTable.get_item\u001b[1;34m()\u001b[0m\n",
      "File \u001b[1;32mpandas\\_libs\\hashtable_class_helper.pxi:7088\u001b[0m, in \u001b[0;36mpandas._libs.hashtable.PyObjectHashTable.get_item\u001b[1;34m()\u001b[0m\n",
      "\u001b[1;31mKeyError\u001b[0m: 'Diâmetro Fase (m)'",
      "\nThe above exception was the direct cause of the following exception:\n",
      "\u001b[1;31mKeyError\u001b[0m                                  Traceback (most recent call last)",
      "Cell \u001b[1;32mIn[13], line 7\u001b[0m\n\u001b[0;32m      4\u001b[0m feature2 \u001b[38;5;241m=\u001b[39m \u001b[38;5;124m'\u001b[39m\u001b[38;5;124mDiâmetro Fase (m)\u001b[39m\u001b[38;5;124m'\u001b[39m\n\u001b[0;32m      6\u001b[0m \u001b[38;5;66;03m# Plotar o gráfico de dispersão\u001b[39;00m\n\u001b[1;32m----> 7\u001b[0m plt\u001b[38;5;241m.\u001b[39mscatter(dados_pocos[feature1][pocos_correlatos[\u001b[38;5;241m1\u001b[39m]], dados_pocos[feature2][pocos_correlatos[\u001b[38;5;241m1\u001b[39m]], label\u001b[38;5;241m=\u001b[39m\u001b[38;5;124m'\u001b[39m\u001b[38;5;124mFase 2\u001b[39m\u001b[38;5;124m'\u001b[39m)\n\u001b[0;32m      8\u001b[0m plt\u001b[38;5;241m.\u001b[39mxlabel(feature1)\n\u001b[0;32m      9\u001b[0m plt\u001b[38;5;241m.\u001b[39mylabel(feature2)\n",
      "File \u001b[1;32m~\\anaconda3\\Lib\\site-packages\\pandas\\core\\frame.py:3761\u001b[0m, in \u001b[0;36mDataFrame.__getitem__\u001b[1;34m(self, key)\u001b[0m\n\u001b[0;32m   3759\u001b[0m \u001b[38;5;28;01mif\u001b[39;00m \u001b[38;5;28mself\u001b[39m\u001b[38;5;241m.\u001b[39mcolumns\u001b[38;5;241m.\u001b[39mnlevels \u001b[38;5;241m>\u001b[39m \u001b[38;5;241m1\u001b[39m:\n\u001b[0;32m   3760\u001b[0m     \u001b[38;5;28;01mreturn\u001b[39;00m \u001b[38;5;28mself\u001b[39m\u001b[38;5;241m.\u001b[39m_getitem_multilevel(key)\n\u001b[1;32m-> 3761\u001b[0m indexer \u001b[38;5;241m=\u001b[39m \u001b[38;5;28mself\u001b[39m\u001b[38;5;241m.\u001b[39mcolumns\u001b[38;5;241m.\u001b[39mget_loc(key)\n\u001b[0;32m   3762\u001b[0m \u001b[38;5;28;01mif\u001b[39;00m is_integer(indexer):\n\u001b[0;32m   3763\u001b[0m     indexer \u001b[38;5;241m=\u001b[39m [indexer]\n",
      "File \u001b[1;32m~\\anaconda3\\Lib\\site-packages\\pandas\\core\\indexes\\base.py:3655\u001b[0m, in \u001b[0;36mIndex.get_loc\u001b[1;34m(self, key)\u001b[0m\n\u001b[0;32m   3653\u001b[0m     \u001b[38;5;28;01mreturn\u001b[39;00m \u001b[38;5;28mself\u001b[39m\u001b[38;5;241m.\u001b[39m_engine\u001b[38;5;241m.\u001b[39mget_loc(casted_key)\n\u001b[0;32m   3654\u001b[0m \u001b[38;5;28;01mexcept\u001b[39;00m \u001b[38;5;167;01mKeyError\u001b[39;00m \u001b[38;5;28;01mas\u001b[39;00m err:\n\u001b[1;32m-> 3655\u001b[0m     \u001b[38;5;28;01mraise\u001b[39;00m \u001b[38;5;167;01mKeyError\u001b[39;00m(key) \u001b[38;5;28;01mfrom\u001b[39;00m \u001b[38;5;21;01merr\u001b[39;00m\n\u001b[0;32m   3656\u001b[0m \u001b[38;5;28;01mexcept\u001b[39;00m \u001b[38;5;167;01mTypeError\u001b[39;00m:\n\u001b[0;32m   3657\u001b[0m     \u001b[38;5;66;03m# If we have a listlike key, _check_indexing_error will raise\u001b[39;00m\n\u001b[0;32m   3658\u001b[0m     \u001b[38;5;66;03m#  InvalidIndexError. Otherwise we fall through and re-raise\u001b[39;00m\n\u001b[0;32m   3659\u001b[0m     \u001b[38;5;66;03m#  the TypeError.\u001b[39;00m\n\u001b[0;32m   3660\u001b[0m     \u001b[38;5;28mself\u001b[39m\u001b[38;5;241m.\u001b[39m_check_indexing_error(key)\n",
      "\u001b[1;31mKeyError\u001b[0m: 'Diâmetro Fase (m)'"
     ]
    }
   ],
   "source": [
    "# analise detalhada dos pocos correlatos\n",
    "# Selecionar um par de características\n",
    "feature1 = 'LDA'\n",
    "feature2 = 'Diâmetro Fase (m)'\n",
    "\n",
    "# Plotar o gráfico de dispersão\n",
    "plt.scatter(dados_pocos[feature1][pocos_correlatos[1]], dados_pocos[feature2][pocos_correlatos[1]], label='Fase 2')\n",
    "plt.xlabel(feature1)\n",
    "plt.ylabel(feature2)\n",
    "plt.legend()\n",
    "plt.show()\n"
   ]
  },
  {
   "cell_type": "code",
   "execution_count": null,
   "id": "d538ec1f",
   "metadata": {},
   "outputs": [],
   "source": [
    "\n"
   ]
  }
 ],
 "metadata": {
  "kernelspec": {
   "display_name": "Python 3 (ipykernel)",
   "language": "python",
   "name": "python3"
  },
  "language_info": {
   "codemirror_mode": {
    "name": "ipython",
    "version": 3
   },
   "file_extension": ".py",
   "mimetype": "text/x-python",
   "name": "python",
   "nbconvert_exporter": "python",
   "pygments_lexer": "ipython3",
   "version": "3.11.5"
  }
 },
 "nbformat": 4,
 "nbformat_minor": 5
}
